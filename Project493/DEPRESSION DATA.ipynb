{
 "cells": [
  {
   "cell_type": "code",
   "execution_count": 1,
   "metadata": {},
   "outputs": [],
   "source": [
    "import pandas as pd\n",
    "import numpy as np\n",
    "import seaborn as sns\n",
    "import matplotlib.pyplot as plt\n",
    "%matplotlib inline "
   ]
  },
  {
   "cell_type": "code",
   "execution_count": 2,
   "metadata": {},
   "outputs": [],
   "source": [
    "train = pd.read_excel('Data/train.xlsx')\n",
    "test = pd.read_excel('Data/test.xlsx')"
   ]
  },
  {
   "cell_type": "code",
   "execution_count": 3,
   "metadata": {},
   "outputs": [
    {
     "data": {
      "text/html": [
       "<div>\n",
       "<style scoped>\n",
       "    .dataframe tbody tr th:only-of-type {\n",
       "        vertical-align: middle;\n",
       "    }\n",
       "\n",
       "    .dataframe tbody tr th {\n",
       "        vertical-align: top;\n",
       "    }\n",
       "\n",
       "    .dataframe thead th {\n",
       "        text-align: right;\n",
       "    }\n",
       "</style>\n",
       "<table border=\"1\" class=\"dataframe\">\n",
       "  <thead>\n",
       "    <tr style=\"text-align: right;\">\n",
       "      <th></th>\n",
       "      <th>surveyid</th>\n",
       "      <th>village</th>\n",
       "      <th>survey_date</th>\n",
       "      <th>femaleres</th>\n",
       "      <th>age</th>\n",
       "      <th>married</th>\n",
       "      <th>children</th>\n",
       "      <th>hhsize</th>\n",
       "      <th>edu</th>\n",
       "      <th>hh_children</th>\n",
       "      <th>...</th>\n",
       "      <th>given_mpesa</th>\n",
       "      <th>amount_given_mpesa</th>\n",
       "      <th>received_mpesa</th>\n",
       "      <th>amount_received_mpesa</th>\n",
       "      <th>net_mpesa</th>\n",
       "      <th>saved_mpesa</th>\n",
       "      <th>amount_saved_mpesa</th>\n",
       "      <th>early_survey</th>\n",
       "      <th>depressed</th>\n",
       "      <th>day_of_week</th>\n",
       "    </tr>\n",
       "  </thead>\n",
       "  <tbody>\n",
       "    <tr>\n",
       "      <th>0</th>\n",
       "      <td>926</td>\n",
       "      <td>91</td>\n",
       "      <td>1961-11-23</td>\n",
       "      <td>1</td>\n",
       "      <td>28.0</td>\n",
       "      <td>1</td>\n",
       "      <td>4</td>\n",
       "      <td>6</td>\n",
       "      <td>10</td>\n",
       "      <td>0</td>\n",
       "      <td>...</td>\n",
       "      <td>0</td>\n",
       "      <td>0.0</td>\n",
       "      <td>0</td>\n",
       "      <td>0.000000</td>\n",
       "      <td>0.000000</td>\n",
       "      <td>1</td>\n",
       "      <td>0.000000</td>\n",
       "      <td>0</td>\n",
       "      <td>0</td>\n",
       "      <td>5</td>\n",
       "    </tr>\n",
       "    <tr>\n",
       "      <th>1</th>\n",
       "      <td>747</td>\n",
       "      <td>57</td>\n",
       "      <td>1961-10-24</td>\n",
       "      <td>1</td>\n",
       "      <td>23.0</td>\n",
       "      <td>1</td>\n",
       "      <td>3</td>\n",
       "      <td>5</td>\n",
       "      <td>8</td>\n",
       "      <td>0</td>\n",
       "      <td>...</td>\n",
       "      <td>0</td>\n",
       "      <td>0.0</td>\n",
       "      <td>1</td>\n",
       "      <td>4.804611</td>\n",
       "      <td>4.804611</td>\n",
       "      <td>0</td>\n",
       "      <td>0.000000</td>\n",
       "      <td>0</td>\n",
       "      <td>1</td>\n",
       "      <td>3</td>\n",
       "    </tr>\n",
       "    <tr>\n",
       "      <th>2</th>\n",
       "      <td>1190</td>\n",
       "      <td>115</td>\n",
       "      <td>1961-10-05</td>\n",
       "      <td>1</td>\n",
       "      <td>22.0</td>\n",
       "      <td>1</td>\n",
       "      <td>3</td>\n",
       "      <td>5</td>\n",
       "      <td>9</td>\n",
       "      <td>0</td>\n",
       "      <td>...</td>\n",
       "      <td>0</td>\n",
       "      <td>0.0</td>\n",
       "      <td>0</td>\n",
       "      <td>8.007685</td>\n",
       "      <td>8.007685</td>\n",
       "      <td>1</td>\n",
       "      <td>0.000000</td>\n",
       "      <td>0</td>\n",
       "      <td>0</td>\n",
       "      <td>5</td>\n",
       "    </tr>\n",
       "    <tr>\n",
       "      <th>3</th>\n",
       "      <td>1065</td>\n",
       "      <td>97</td>\n",
       "      <td>1961-09-23</td>\n",
       "      <td>1</td>\n",
       "      <td>27.0</td>\n",
       "      <td>1</td>\n",
       "      <td>2</td>\n",
       "      <td>4</td>\n",
       "      <td>10</td>\n",
       "      <td>2</td>\n",
       "      <td>...</td>\n",
       "      <td>0</td>\n",
       "      <td>0.0</td>\n",
       "      <td>0</td>\n",
       "      <td>0.000000</td>\n",
       "      <td>0.000000</td>\n",
       "      <td>1</td>\n",
       "      <td>1.249199</td>\n",
       "      <td>0</td>\n",
       "      <td>0</td>\n",
       "      <td>0</td>\n",
       "    </tr>\n",
       "    <tr>\n",
       "      <th>4</th>\n",
       "      <td>806</td>\n",
       "      <td>42</td>\n",
       "      <td>1961-09-12</td>\n",
       "      <td>0</td>\n",
       "      <td>59.0</td>\n",
       "      <td>0</td>\n",
       "      <td>4</td>\n",
       "      <td>6</td>\n",
       "      <td>10</td>\n",
       "      <td>4</td>\n",
       "      <td>...</td>\n",
       "      <td>0</td>\n",
       "      <td>0.0</td>\n",
       "      <td>0</td>\n",
       "      <td>0.000000</td>\n",
       "      <td>0.000000</td>\n",
       "      <td>0</td>\n",
       "      <td>0.000000</td>\n",
       "      <td>0</td>\n",
       "      <td>0</td>\n",
       "      <td>3</td>\n",
       "    </tr>\n",
       "  </tbody>\n",
       "</table>\n",
       "<p>5 rows × 75 columns</p>\n",
       "</div>"
      ],
      "text/plain": [
       "   surveyid  village survey_date  femaleres   age  married  children  hhsize  \\\n",
       "0       926       91  1961-11-23          1  28.0        1         4       6   \n",
       "1       747       57  1961-10-24          1  23.0        1         3       5   \n",
       "2      1190      115  1961-10-05          1  22.0        1         3       5   \n",
       "3      1065       97  1961-09-23          1  27.0        1         2       4   \n",
       "4       806       42  1961-09-12          0  59.0        0         4       6   \n",
       "\n",
       "   edu  hh_children  ...  given_mpesa  amount_given_mpesa  received_mpesa  \\\n",
       "0   10            0  ...            0                 0.0               0   \n",
       "1    8            0  ...            0                 0.0               1   \n",
       "2    9            0  ...            0                 0.0               0   \n",
       "3   10            2  ...            0                 0.0               0   \n",
       "4   10            4  ...            0                 0.0               0   \n",
       "\n",
       "   amount_received_mpesa  net_mpesa  saved_mpesa  amount_saved_mpesa  \\\n",
       "0               0.000000   0.000000            1            0.000000   \n",
       "1               4.804611   4.804611            0            0.000000   \n",
       "2               8.007685   8.007685            1            0.000000   \n",
       "3               0.000000   0.000000            1            1.249199   \n",
       "4               0.000000   0.000000            0            0.000000   \n",
       "\n",
       "   early_survey  depressed  day_of_week  \n",
       "0             0          0            5  \n",
       "1             0          1            3  \n",
       "2             0          0            5  \n",
       "3             0          0            0  \n",
       "4             0          0            3  \n",
       "\n",
       "[5 rows x 75 columns]"
      ]
     },
     "execution_count": 3,
     "metadata": {},
     "output_type": "execute_result"
    }
   ],
   "source": [
    "train.head()"
   ]
  },
  {
   "cell_type": "code",
   "execution_count": null,
   "metadata": {},
   "outputs": [],
   "source": []
  },
  {
   "cell_type": "code",
   "execution_count": 4,
   "metadata": {},
   "outputs": [
    {
     "data": {
      "text/plain": [
       "(1143, 75)"
      ]
     },
     "execution_count": 4,
     "metadata": {},
     "output_type": "execute_result"
    }
   ],
   "source": [
    "train.shape"
   ]
  },
  {
   "cell_type": "code",
   "execution_count": 5,
   "metadata": {},
   "outputs": [
    {
     "data": {
      "text/plain": [
       "(286, 75)"
      ]
     },
     "execution_count": 5,
     "metadata": {},
     "output_type": "execute_result"
    }
   ],
   "source": [
    "test.shape"
   ]
  },
  {
   "cell_type": "markdown",
   "metadata": {},
   "source": [
    "# COMBINING BOTH DATASETS"
   ]
  },
  {
   "cell_type": "code",
   "execution_count": 6,
   "metadata": {},
   "outputs": [],
   "source": [
    "data = pd.concat([train,test])"
   ]
  },
  {
   "cell_type": "code",
   "execution_count": 7,
   "metadata": {},
   "outputs": [
    {
     "data": {
      "text/plain": [
       "(1429, 75)"
      ]
     },
     "execution_count": 7,
     "metadata": {},
     "output_type": "execute_result"
    }
   ],
   "source": [
    "data.shape"
   ]
  },
  {
   "cell_type": "code",
   "execution_count": 8,
   "metadata": {},
   "outputs": [
    {
     "data": {
      "text/plain": [
       "1429"
      ]
     },
     "execution_count": 8,
     "metadata": {},
     "output_type": "execute_result"
    }
   ],
   "source": [
    "data.shape[0]"
   ]
  },
  {
   "cell_type": "code",
   "execution_count": 9,
   "metadata": {},
   "outputs": [
    {
     "data": {
      "text/plain": [
       "True"
      ]
     },
     "execution_count": 9,
     "metadata": {},
     "output_type": "execute_result"
    }
   ],
   "source": [
    "data['surveyid'].is_unique"
   ]
  },
  {
   "cell_type": "markdown",
   "metadata": {},
   "source": [
    "# Data Cleaning"
   ]
  },
  {
   "cell_type": "code",
   "execution_count": 10,
   "metadata": {},
   "outputs": [],
   "source": [
    "def checkmissing(df):\n",
    "    null_cols = {}\n",
    "    for i in data.columns:\n",
    "        null_sum = data[i].isnull().sum()\n",
    "        null_percentage = (null_sum/data.shape[0]) * 100\n",
    "        if null_percentage > 0:\n",
    "            null_cols[i] = null_percentage\n",
    "    missing = pd.Series(data = null_cols)\n",
    "    return missing"
   ]
  },
  {
   "cell_type": "code",
   "execution_count": 11,
   "metadata": {},
   "outputs": [
    {
     "data": {
      "text/plain": [
       "age                         0.069979\n",
       "hh_totalmembers            29.671099\n",
       "cons_alcohol                3.848845\n",
       "cons_tobacco                1.889433\n",
       "cons_med_children          37.018894\n",
       "fs_chskipm_often           36.738978\n",
       "fs_chwholed_often          36.738978\n",
       "fs_meat                    29.671099\n",
       "fs_enoughtom               29.671099\n",
       "fs_sleephun                29.671099\n",
       "med_expenses_hh_ep         60.811756\n",
       "med_expenses_sp_ep         77.396781\n",
       "med_expenses_child_ep      52.414276\n",
       "med_portion_sickinjured    29.671099\n",
       "med_port_sick_child        36.738978\n",
       "med_afford_port            37.368789\n",
       "med_sickdays_hhave         29.671099\n",
       "med_healthconsult          37.368789\n",
       "med_u5_deaths              95.031491\n",
       "ed_expenses                40.447866\n",
       "ed_expenses_perkid         40.447866\n",
       "ed_schoolattend            40.447866\n",
       "ed_sch_missedpc            40.797761\n",
       "ed_work_act_pc             50.174948\n",
       "depressed                  19.734080\n",
       "dtype: float64"
      ]
     },
     "execution_count": 11,
     "metadata": {},
     "output_type": "execute_result"
    }
   ],
   "source": [
    "series=checkmissing(data)\n",
    "series"
   ]
  },
  {
   "cell_type": "code",
   "execution_count": 12,
   "metadata": {},
   "outputs": [
    {
     "data": {
      "text/plain": [
       "(1429, 70)"
      ]
     },
     "execution_count": 12,
     "metadata": {},
     "output_type": "execute_result"
    }
   ],
   "source": [
    "data.drop(series[series > 50].index,axis=1,inplace=True)\n",
    "data.shape"
   ]
  },
  {
   "cell_type": "code",
   "execution_count": 13,
   "metadata": {},
   "outputs": [
    {
     "data": {
      "text/plain": [
       "(1429, 66)"
      ]
     },
     "execution_count": 13,
     "metadata": {},
     "output_type": "execute_result"
    }
   ],
   "source": [
    "# dropping columns that are not relevant\n",
    "data.drop(['surveyid','village','survey_date','day_of_week'],axis=1,inplace=True)\n",
    "data.shape"
   ]
  },
  {
   "cell_type": "code",
   "execution_count": 14,
   "metadata": {},
   "outputs": [
    {
     "data": {
      "text/plain": [
       "<matplotlib.axes._subplots.AxesSubplot at 0x7f64f5f83780>"
      ]
     },
     "execution_count": 14,
     "metadata": {},
     "output_type": "execute_result"
    },
    {
     "data": {
      "image/png": "[encoded data removed]",
      "text/plain": [
       "<Figure size 864x576 with 2 Axes>"
      ]
     },
     "metadata": {
      "needs_background": "light"
     },
     "output_type": "display_data"
    }
   ],
   "source": [
    "#Checking for correlation in the dataset\n",
    "corr_matrix = data.corr()\n",
    "plt.figure(figsize=(12,8))\n",
    "sns.heatmap(corr_matrix)\n"
   ]
  },
  {
   "cell_type": "code",
   "execution_count": 15,
   "metadata": {},
   "outputs": [
    {
     "data": {
      "text/plain": [
       "{'cons_allfood',\n",
       " 'cons_med_children',\n",
       " 'cons_ownfood',\n",
       " 'durable_investment',\n",
       " 'ed_expenses',\n",
       " 'ed_expenses_perkid',\n",
       " 'ent_total_cost',\n",
       " 'hh_totalmembers',\n",
       " 'hhsize',\n",
       " 'labor_primary',\n",
       " 'med_port_sick_child',\n",
       " 'net_mpesa',\n",
       " 'nondurable_investment'}"
      ]
     },
     "execution_count": 15,
     "metadata": {},
     "output_type": "execute_result"
    }
   ],
   "source": [
    "def correlation(df,threshhold):\n",
    "    corr_col = set()\n",
    "    corr_matrix = data.corr()\n",
    "    for i in range(len(corr_matrix.columns)):\n",
    "        for j in range(i):\n",
    "            if abs(corr_matrix.iloc[i,j])> threshhold:\n",
    "                colname = corr_matrix.columns[i]\n",
    "                corr_col.add(colname)\n",
    "    return corr_col\n",
    "\n",
    "corr_cols = correlation(data,0.7)\n",
    "corr_cols"
   ]
  },
  {
   "cell_type": "code",
   "execution_count": 16,
   "metadata": {},
   "outputs": [
    {
     "data": {
      "text/plain": [
       "(1429, 53)"
      ]
     },
     "execution_count": 16,
     "metadata": {},
     "output_type": "execute_result"
    }
   ],
   "source": [
    "data.drop(corr_cols,axis=1,inplace = True)\n",
    "data.shape"
   ]
  },
  {
   "cell_type": "code",
   "execution_count": 17,
   "metadata": {},
   "outputs": [],
   "source": [
    "#converting columns with categorical data to categorical datatype\n",
    "cat = ['femaleres','married','asset_niceroof','ent_wagelabor','ent_ownfarm','ent_business','ent_nonagbusiness',\n",
    "      'early_survey','fs_enoughtom','fs_sleephun','depressed']\n",
    "for i in cat:\n",
    "     data[i]=data[i].astype('category')\n"
   ]
  },
  {
   "cell_type": "code",
   "execution_count": 18,
   "metadata": {},
   "outputs": [],
   "source": [
    "data['age'].replace(to_replace = '.d',value = np.nan,inplace = True )"
   ]
  },
  {
   "cell_type": "code",
   "execution_count": 19,
   "metadata": {},
   "outputs": [],
   "source": [
    "#data.info()"
   ]
  },
  {
   "cell_type": "code",
   "execution_count": 20,
   "metadata": {},
   "outputs": [
    {
     "data": {
      "text/plain": [
       "femaleres              0\n",
       "married                0\n",
       "asset_niceroof         0\n",
       "ent_wagelabor          0\n",
       "ent_ownfarm            0\n",
       "ent_business           0\n",
       "ent_nonagbusiness      0\n",
       "early_survey           0\n",
       "fs_enoughtom         424\n",
       "fs_sleephun          424\n",
       "depressed            282\n",
       "dtype: int64"
      ]
     },
     "execution_count": 20,
     "metadata": {},
     "output_type": "execute_result"
    }
   ],
   "source": [
    "data[cat].isnull().sum()"
   ]
  },
  {
   "cell_type": "code",
   "execution_count": 21,
   "metadata": {},
   "outputs": [],
   "source": [
    "#data[['fs_enoughtom','fs_sleephun','depressed']].fillna(method = 'ffill',inplace = True)"
   ]
  },
  {
   "cell_type": "code",
   "execution_count": 22,
   "metadata": {},
   "outputs": [],
   "source": [
    "for i in cat:\n",
    "    data[i].fillna(method = 'ffill',inplace = True)\n",
    "    if data[i].isnull().any():\n",
    "        data[i].fillna(method = 'bfill',inplace = True)\n",
    "    \n",
    "for j in data.columns:\n",
    "    if j not in cat:\n",
    "        data[j].fillna(data[j].mean(),inplace = True)"
   ]
  },
  {
   "cell_type": "code",
   "execution_count": 23,
   "metadata": {},
   "outputs": [
    {
     "name": "stdout",
     "output_type": "stream",
     "text": [
      "<class 'pandas.core.frame.DataFrame'>\n",
      "Int64Index: 1429 entries, 0 to 285\n",
      "Data columns (total 53 columns):\n",
      " #   Column                   Non-Null Count  Dtype   \n",
      "---  ------                   --------------  -----   \n",
      " 0   femaleres                1429 non-null   category\n",
      " 1   age                      1429 non-null   float64 \n",
      " 2   married                  1429 non-null   category\n",
      " 3   children                 1429 non-null   int64   \n",
      " 4   edu                      1429 non-null   int64   \n",
      " 5   hh_children              1429 non-null   int64   \n",
      " 6   cons_nondurable          1429 non-null   float64 \n",
      " 7   asset_livestock          1429 non-null   float64 \n",
      " 8   asset_durable            1429 non-null   float64 \n",
      " 9   asset_phone              1429 non-null   float64 \n",
      " 10  asset_savings            1429 non-null   float64 \n",
      " 11  asset_land_owned_total   1429 non-null   float64 \n",
      " 12  asset_niceroof           1429 non-null   category\n",
      " 13  cons_alcohol             1429 non-null   float64 \n",
      " 14  cons_tobacco             1429 non-null   float64 \n",
      " 15  cons_med_total           1429 non-null   float64 \n",
      " 16  cons_ed                  1429 non-null   float64 \n",
      " 17  cons_social              1429 non-null   float64 \n",
      " 18  cons_other               1429 non-null   float64 \n",
      " 19  ent_wagelabor            1429 non-null   category\n",
      " 20  ent_ownfarm              1429 non-null   category\n",
      " 21  ent_business             1429 non-null   category\n",
      " 22  ent_nonagbusiness        1429 non-null   category\n",
      " 23  ent_employees            1429 non-null   int64   \n",
      " 24  ent_nonag_revenue        1429 non-null   float64 \n",
      " 25  ent_nonag_flowcost       1429 non-null   float64 \n",
      " 26  ent_farmrevenue          1429 non-null   float64 \n",
      " 27  ent_farmexpenses         1429 non-null   float64 \n",
      " 28  ent_animalstockrev       1429 non-null   float64 \n",
      " 29  fs_adskipm_often         1429 non-null   float64 \n",
      " 30  fs_adwholed_often        1429 non-null   float64 \n",
      " 31  fs_chskipm_often         1429 non-null   float64 \n",
      " 32  fs_chwholed_often        1429 non-null   float64 \n",
      " 33  fs_meat                  1429 non-null   float64 \n",
      " 34  fs_enoughtom             1429 non-null   category\n",
      " 35  fs_sleephun              1429 non-null   category\n",
      " 36  med_portion_sickinjured  1429 non-null   float64 \n",
      " 37  med_afford_port          1429 non-null   float64 \n",
      " 38  med_sickdays_hhave       1429 non-null   float64 \n",
      " 39  med_healthconsult        1429 non-null   float64 \n",
      " 40  med_vacc_newborns        1429 non-null   int64   \n",
      " 41  med_child_check          1429 non-null   int64   \n",
      " 42  ed_schoolattend          1429 non-null   float64 \n",
      " 43  ed_sch_missedpc          1429 non-null   float64 \n",
      " 44  wage_expenditures        1429 non-null   int64   \n",
      " 45  given_mpesa              1429 non-null   int64   \n",
      " 46  amount_given_mpesa       1429 non-null   float64 \n",
      " 47  received_mpesa           1429 non-null   int64   \n",
      " 48  amount_received_mpesa    1429 non-null   float64 \n",
      " 49  saved_mpesa              1429 non-null   int64   \n",
      " 50  amount_saved_mpesa       1429 non-null   float64 \n",
      " 51  early_survey             1429 non-null   category\n",
      " 52  depressed                1429 non-null   category\n",
      "dtypes: category(11), float64(32), int64(10)\n",
      "memory usage: 496.4 KB\n"
     ]
    }
   ],
   "source": [
    "data.info()"
   ]
  },
  {
   "cell_type": "code",
   "execution_count": 24,
   "metadata": {},
   "outputs": [
    {
     "data": {
      "text/html": [
       "<div>\n",
       "<style scoped>\n",
       "    .dataframe tbody tr th:only-of-type {\n",
       "        vertical-align: middle;\n",
       "    }\n",
       "\n",
       "    .dataframe tbody tr th {\n",
       "        vertical-align: top;\n",
       "    }\n",
       "\n",
       "    .dataframe thead th {\n",
       "        text-align: right;\n",
       "    }\n",
       "</style>\n",
       "<table border=\"1\" class=\"dataframe\">\n",
       "  <thead>\n",
       "    <tr style=\"text-align: right;\">\n",
       "      <th></th>\n",
       "      <th>age</th>\n",
       "      <th>children</th>\n",
       "      <th>edu</th>\n",
       "      <th>hh_children</th>\n",
       "      <th>cons_nondurable</th>\n",
       "      <th>asset_livestock</th>\n",
       "      <th>asset_durable</th>\n",
       "      <th>asset_phone</th>\n",
       "      <th>asset_savings</th>\n",
       "      <th>asset_land_owned_total</th>\n",
       "      <th>...</th>\n",
       "      <th>med_child_check</th>\n",
       "      <th>ed_schoolattend</th>\n",
       "      <th>ed_sch_missedpc</th>\n",
       "      <th>wage_expenditures</th>\n",
       "      <th>given_mpesa</th>\n",
       "      <th>amount_given_mpesa</th>\n",
       "      <th>received_mpesa</th>\n",
       "      <th>amount_received_mpesa</th>\n",
       "      <th>saved_mpesa</th>\n",
       "      <th>amount_saved_mpesa</th>\n",
       "    </tr>\n",
       "  </thead>\n",
       "  <tbody>\n",
       "    <tr>\n",
       "      <th>count</th>\n",
       "      <td>1429.000000</td>\n",
       "      <td>1429.000000</td>\n",
       "      <td>1429.000000</td>\n",
       "      <td>1429.000000</td>\n",
       "      <td>1429.000000</td>\n",
       "      <td>1429.000000</td>\n",
       "      <td>1429.000000</td>\n",
       "      <td>1429.000000</td>\n",
       "      <td>1429.000000</td>\n",
       "      <td>1429.000000</td>\n",
       "      <td>...</td>\n",
       "      <td>1429.0</td>\n",
       "      <td>1429.000000</td>\n",
       "      <td>1429.000000</td>\n",
       "      <td>1429.000000</td>\n",
       "      <td>1429.000000</td>\n",
       "      <td>1429.000000</td>\n",
       "      <td>1429.000000</td>\n",
       "      <td>1429.000000</td>\n",
       "      <td>1429.000000</td>\n",
       "      <td>1429.000000</td>\n",
       "    </tr>\n",
       "    <tr>\n",
       "      <th>mean</th>\n",
       "      <td>34.783111</td>\n",
       "      <td>2.883135</td>\n",
       "      <td>8.687194</td>\n",
       "      <td>2.041288</td>\n",
       "      <td>126.105799</td>\n",
       "      <td>112.970888</td>\n",
       "      <td>144.797796</td>\n",
       "      <td>18.902193</td>\n",
       "      <td>10.165535</td>\n",
       "      <td>0.911025</td>\n",
       "      <td>...</td>\n",
       "      <td>1.0</td>\n",
       "      <td>0.703054</td>\n",
       "      <td>1.337025</td>\n",
       "      <td>20.741777</td>\n",
       "      <td>0.013296</td>\n",
       "      <td>0.475194</td>\n",
       "      <td>0.070679</td>\n",
       "      <td>4.080613</td>\n",
       "      <td>0.188943</td>\n",
       "      <td>2.114914</td>\n",
       "    </tr>\n",
       "    <tr>\n",
       "      <th>std</th>\n",
       "      <td>13.982613</td>\n",
       "      <td>1.874472</td>\n",
       "      <td>2.923532</td>\n",
       "      <td>2.044081</td>\n",
       "      <td>137.591884</td>\n",
       "      <td>237.350489</td>\n",
       "      <td>191.952725</td>\n",
       "      <td>27.552131</td>\n",
       "      <td>75.140134</td>\n",
       "      <td>1.598780</td>\n",
       "      <td>...</td>\n",
       "      <td>0.0</td>\n",
       "      <td>0.261502</td>\n",
       "      <td>1.992989</td>\n",
       "      <td>716.126179</td>\n",
       "      <td>0.114579</td>\n",
       "      <td>5.857223</td>\n",
       "      <td>0.256377</td>\n",
       "      <td>28.574333</td>\n",
       "      <td>0.391601</td>\n",
       "      <td>18.174208</td>\n",
       "    </tr>\n",
       "    <tr>\n",
       "      <th>min</th>\n",
       "      <td>17.000000</td>\n",
       "      <td>0.000000</td>\n",
       "      <td>1.000000</td>\n",
       "      <td>0.000000</td>\n",
       "      <td>0.000000</td>\n",
       "      <td>0.000000</td>\n",
       "      <td>0.000000</td>\n",
       "      <td>0.000000</td>\n",
       "      <td>0.000000</td>\n",
       "      <td>0.000000</td>\n",
       "      <td>...</td>\n",
       "      <td>1.0</td>\n",
       "      <td>0.000000</td>\n",
       "      <td>0.000000</td>\n",
       "      <td>0.000000</td>\n",
       "      <td>0.000000</td>\n",
       "      <td>0.000000</td>\n",
       "      <td>0.000000</td>\n",
       "      <td>0.000000</td>\n",
       "      <td>0.000000</td>\n",
       "      <td>0.000000</td>\n",
       "    </tr>\n",
       "    <tr>\n",
       "      <th>25%</th>\n",
       "      <td>25.000000</td>\n",
       "      <td>2.000000</td>\n",
       "      <td>8.000000</td>\n",
       "      <td>0.000000</td>\n",
       "      <td>0.000000</td>\n",
       "      <td>0.000000</td>\n",
       "      <td>0.000000</td>\n",
       "      <td>0.000000</td>\n",
       "      <td>0.000000</td>\n",
       "      <td>0.000000</td>\n",
       "      <td>...</td>\n",
       "      <td>1.0</td>\n",
       "      <td>0.666667</td>\n",
       "      <td>0.000000</td>\n",
       "      <td>0.000000</td>\n",
       "      <td>0.000000</td>\n",
       "      <td>0.000000</td>\n",
       "      <td>0.000000</td>\n",
       "      <td>0.000000</td>\n",
       "      <td>0.000000</td>\n",
       "      <td>0.000000</td>\n",
       "    </tr>\n",
       "    <tr>\n",
       "      <th>50%</th>\n",
       "      <td>30.200001</td>\n",
       "      <td>3.000000</td>\n",
       "      <td>9.000000</td>\n",
       "      <td>2.000000</td>\n",
       "      <td>107.120900</td>\n",
       "      <td>16.521257</td>\n",
       "      <td>118.513740</td>\n",
       "      <td>0.000000</td>\n",
       "      <td>0.000000</td>\n",
       "      <td>0.000000</td>\n",
       "      <td>...</td>\n",
       "      <td>1.0</td>\n",
       "      <td>0.703054</td>\n",
       "      <td>1.337025</td>\n",
       "      <td>0.000000</td>\n",
       "      <td>0.000000</td>\n",
       "      <td>0.000000</td>\n",
       "      <td>0.000000</td>\n",
       "      <td>0.000000</td>\n",
       "      <td>0.000000</td>\n",
       "      <td>0.000000</td>\n",
       "    </tr>\n",
       "    <tr>\n",
       "      <th>75%</th>\n",
       "      <td>42.000000</td>\n",
       "      <td>4.000000</td>\n",
       "      <td>10.000000</td>\n",
       "      <td>3.000000</td>\n",
       "      <td>186.465440</td>\n",
       "      <td>101.891500</td>\n",
       "      <td>219.410570</td>\n",
       "      <td>32.030739</td>\n",
       "      <td>0.000000</td>\n",
       "      <td>1.500000</td>\n",
       "      <td>...</td>\n",
       "      <td>1.0</td>\n",
       "      <td>0.857143</td>\n",
       "      <td>1.337025</td>\n",
       "      <td>0.000000</td>\n",
       "      <td>0.000000</td>\n",
       "      <td>0.000000</td>\n",
       "      <td>0.000000</td>\n",
       "      <td>0.000000</td>\n",
       "      <td>0.000000</td>\n",
       "      <td>0.000000</td>\n",
       "    </tr>\n",
       "    <tr>\n",
       "      <th>max</th>\n",
       "      <td>91.000000</td>\n",
       "      <td>11.000000</td>\n",
       "      <td>19.000000</td>\n",
       "      <td>10.000000</td>\n",
       "      <td>1431.609100</td>\n",
       "      <td>2754.531700</td>\n",
       "      <td>3720.370400</td>\n",
       "      <td>192.184430</td>\n",
       "      <td>2242.151900</td>\n",
       "      <td>27.000000</td>\n",
       "      <td>...</td>\n",
       "      <td>1.0</td>\n",
       "      <td>1.500000</td>\n",
       "      <td>30.000000</td>\n",
       "      <td>27000.000000</td>\n",
       "      <td>1.000000</td>\n",
       "      <td>160.153700</td>\n",
       "      <td>1.000000</td>\n",
       "      <td>448.430360</td>\n",
       "      <td>1.000000</td>\n",
       "      <td>488.468780</td>\n",
       "    </tr>\n",
       "  </tbody>\n",
       "</table>\n",
       "<p>8 rows × 42 columns</p>\n",
       "</div>"
      ],
      "text/plain": [
       "               age     children          edu  hh_children  cons_nondurable  \\\n",
       "count  1429.000000  1429.000000  1429.000000  1429.000000      1429.000000   \n",
       "mean     34.783111     2.883135     8.687194     2.041288       126.105799   \n",
       "std      13.982613     1.874472     2.923532     2.044081       137.591884   \n",
       "min      17.000000     0.000000     1.000000     0.000000         0.000000   \n",
       "25%      25.000000     2.000000     8.000000     0.000000         0.000000   \n",
       "50%      30.200001     3.000000     9.000000     2.000000       107.120900   \n",
       "75%      42.000000     4.000000    10.000000     3.000000       186.465440   \n",
       "max      91.000000    11.000000    19.000000    10.000000      1431.609100   \n",
       "\n",
       "       asset_livestock  asset_durable  asset_phone  asset_savings  \\\n",
       "count      1429.000000    1429.000000  1429.000000    1429.000000   \n",
       "mean        112.970888     144.797796    18.902193      10.165535   \n",
       "std         237.350489     191.952725    27.552131      75.140134   \n",
       "min           0.000000       0.000000     0.000000       0.000000   \n",
       "25%           0.000000       0.000000     0.000000       0.000000   \n",
       "50%          16.521257     118.513740     0.000000       0.000000   \n",
       "75%         101.891500     219.410570    32.030739       0.000000   \n",
       "max        2754.531700    3720.370400   192.184430    2242.151900   \n",
       "\n",
       "       asset_land_owned_total  ...  med_child_check  ed_schoolattend  \\\n",
       "count             1429.000000  ...           1429.0      1429.000000   \n",
       "mean                 0.911025  ...              1.0         0.703054   \n",
       "std                  1.598780  ...              0.0         0.261502   \n",
       "min                  0.000000  ...              1.0         0.000000   \n",
       "25%                  0.000000  ...              1.0         0.666667   \n",
       "50%                  0.000000  ...              1.0         0.703054   \n",
       "75%                  1.500000  ...              1.0         0.857143   \n",
       "max                 27.000000  ...              1.0         1.500000   \n",
       "\n",
       "       ed_sch_missedpc  wage_expenditures  given_mpesa  amount_given_mpesa  \\\n",
       "count      1429.000000        1429.000000  1429.000000         1429.000000   \n",
       "mean          1.337025          20.741777     0.013296            0.475194   \n",
       "std           1.992989         716.126179     0.114579            5.857223   \n",
       "min           0.000000           0.000000     0.000000            0.000000   \n",
       "25%           0.000000           0.000000     0.000000            0.000000   \n",
       "50%           1.337025           0.000000     0.000000            0.000000   \n",
       "75%           1.337025           0.000000     0.000000            0.000000   \n",
       "max          30.000000       27000.000000     1.000000          160.153700   \n",
       "\n",
       "       received_mpesa  amount_received_mpesa  saved_mpesa  amount_saved_mpesa  \n",
       "count     1429.000000            1429.000000  1429.000000         1429.000000  \n",
       "mean         0.070679               4.080613     0.188943            2.114914  \n",
       "std          0.256377              28.574333     0.391601           18.174208  \n",
       "min          0.000000               0.000000     0.000000            0.000000  \n",
       "25%          0.000000               0.000000     0.000000            0.000000  \n",
       "50%          0.000000               0.000000     0.000000            0.000000  \n",
       "75%          0.000000               0.000000     0.000000            0.000000  \n",
       "max          1.000000             448.430360     1.000000          488.468780  \n",
       "\n",
       "[8 rows x 42 columns]"
      ]
     },
     "execution_count": 24,
     "metadata": {},
     "output_type": "execute_result"
    }
   ],
   "source": [
    "data.describe()"
   ]
  },
  {
   "cell_type": "code",
   "execution_count": null,
   "metadata": {},
   "outputs": [],
   "source": []
  },
  {
   "cell_type": "markdown",
   "metadata": {},
   "source": [
    "# DATA PREPROCESSING"
   ]
  },
  {
   "cell_type": "code",
   "execution_count": 25,
   "metadata": {},
   "outputs": [],
   "source": [
    "from sklearn.model_selection import train_test_split\n",
    "from sklearn.feature_selection import VarianceThreshold\n",
    "from sklearn.preprocessing import OneHotEncoder,LabelBinarizer,StandardScaler\n",
    "X = data.drop('depressed',axis = 1)\n",
    "y = data['depressed']\n",
    "\n"
   ]
  },
  {
   "cell_type": "raw",
   "metadata": {},
   "source": [
    "#CHECKING FOR VARIABLES WITH LOW VARIANCE"
   ]
  },
  {
   "cell_type": "code",
   "execution_count": 26,
   "metadata": {},
   "outputs": [
    {
     "data": {
      "text/plain": [
       "VarianceThreshold(threshold=0.05)"
      ]
     },
     "execution_count": 26,
     "metadata": {},
     "output_type": "execute_result"
    }
   ],
   "source": [
    "x_filter = VarianceThreshold(threshold = 0.05)\n",
    "x_filtered = x_filter.fit(X)\n",
    "x_filtered"
   ]
  },
  {
   "cell_type": "code",
   "execution_count": 27,
   "metadata": {},
   "outputs": [
    {
     "data": {
      "text/plain": [
       "48"
      ]
     },
     "execution_count": 27,
     "metadata": {},
     "output_type": "execute_result"
    }
   ],
   "source": [
    "x_filtered.get_support().sum()"
   ]
  },
  {
   "cell_type": "code",
   "execution_count": 28,
   "metadata": {},
   "outputs": [
    {
     "data": {
      "text/plain": [
       "Index(['asset_niceroof', 'med_vacc_newborns', 'med_child_check',\n",
       "       'given_mpesa'],\n",
       "      dtype='object')"
      ]
     },
     "execution_count": 28,
     "metadata": {},
     "output_type": "execute_result"
    }
   ],
   "source": [
    "cons = [not var for var in x_filtered.get_support() ]\n",
    "x_var = X.columns[cons]\n",
    "x_var"
   ]
  },
  {
   "cell_type": "code",
   "execution_count": 29,
   "metadata": {},
   "outputs": [],
   "source": [
    "X.drop(x_var,axis = 1,inplace = True)"
   ]
  },
  {
   "cell_type": "code",
   "execution_count": 30,
   "metadata": {},
   "outputs": [
    {
     "data": {
      "text/plain": [
       "(1429, 48)"
      ]
     },
     "execution_count": 30,
     "metadata": {},
     "output_type": "execute_result"
    }
   ],
   "source": [
    "X.shape"
   ]
  },
  {
   "cell_type": "code",
   "execution_count": 31,
   "metadata": {},
   "outputs": [
    {
     "name": "stdout",
     "output_type": "stream",
     "text": [
      " 1) femaleres                      0.138788\n",
      " 2) age                            0.083104\n",
      " 3) married                        0.072117\n",
      " 4) children                       0.035378\n",
      " 5) edu                            0.034891\n",
      " 6) hh_children                    0.032905\n",
      " 7) cons_nondurable                0.032254\n",
      " 8) asset_livestock                0.032050\n",
      " 9) asset_durable                  0.030540\n",
      "10) asset_phone                    0.030411\n",
      "11) asset_savings                  0.029196\n",
      "12) asset_land_owned_total         0.024675\n",
      "13) cons_alcohol                   0.022504\n",
      "14) cons_tobacco                   0.021477\n",
      "15) cons_med_total                 0.019955\n",
      "16) cons_ed                        0.019915\n",
      "17) cons_social                    0.019907\n",
      "18) cons_other                     0.018338\n",
      "19) ent_wagelabor                  0.017305\n",
      "20) ent_ownfarm                    0.016611\n",
      "21) ent_business                   0.016433\n",
      "22) ent_nonagbusiness              0.016387\n",
      "23) ent_employees                  0.014666\n",
      "24) ent_nonag_revenue              0.014500\n",
      "25) ent_nonag_flowcost             0.014496\n",
      "26) ent_farmrevenue                0.014123\n",
      "27) ent_farmexpenses               0.013114\n",
      "28) ent_animalstockrev             0.013066\n",
      "29) fs_adskipm_often               0.012939\n",
      "30) fs_adwholed_often              0.012392\n",
      "31) fs_chskipm_often               0.012229\n",
      "32) fs_chwholed_often              0.011864\n",
      "33) fs_meat                        0.011588\n",
      "34) fs_enoughtom                   0.010593\n",
      "35) fs_sleephun                    0.010547\n",
      "36) med_portion_sickinjured        0.010303\n",
      "37) med_afford_port                0.010135\n",
      "38) med_sickdays_hhave             0.009888\n",
      "39) med_healthconsult              0.007778\n",
      "40) ed_schoolattend                0.006372\n",
      "41) ed_sch_missedpc                0.004999\n",
      "42) wage_expenditures              0.004611\n",
      "43) amount_given_mpesa             0.004322\n",
      "44) received_mpesa                 0.003458\n",
      "45) amount_received_mpesa          0.003142\n",
      "46) saved_mpesa                    0.002420\n",
      "47) amount_saved_mpesa             0.001095\n",
      "48) early_survey                   0.000219\n"
     ]
    }
   ],
   "source": [
    "from sklearn.ensemble import RandomForestClassifier\n",
    "labels = X.columns\n",
    "rfc = RandomForestClassifier(n_estimators=10000,random_state=0,n_jobs=-1)\n",
    "rfc.fit(X, y)\n",
    "importances = rfc.feature_importances_ \n",
    "indices = np.argsort(importances)[::-1]\n",
    "for f in range(X.shape[1]):\n",
    "    print(\"%2d) %-*s %f\" % (f + 1, 30,labels[f],importances[indices[f]]))"
   ]
  },
  {
   "cell_type": "code",
   "execution_count": 35,
   "metadata": {},
   "outputs": [],
   "source": [
    "from mlxtend.feature_selection import SequentialFeatureSelector as SFS\n"
   ]
  },
  {
   "cell_type": "code",
   "execution_count": 116,
   "metadata": {},
   "outputs": [
    {
     "name": "stderr",
     "output_type": "stream",
     "text": [
      "[Parallel(n_jobs=-1)]: Using backend LokyBackend with 4 concurrent workers.\n",
      "[Parallel(n_jobs=-1)]: Done  33 tasks      | elapsed:   16.8s\n",
      "[Parallel(n_jobs=-1)]: Done  48 out of  48 | elapsed:   22.9s finished\n",
      "\n",
      "[2020-03-15 03:10:49] Features: 1/12 -- score: 0.5502424819300105[Parallel(n_jobs=-1)]: Using backend LokyBackend with 4 concurrent workers.\n",
      "[Parallel(n_jobs=-1)]: Done  33 tasks      | elapsed:   17.2s\n",
      "[Parallel(n_jobs=-1)]: Done  47 out of  47 | elapsed:   23.1s finished\n",
      "\n",
      "[2020-03-15 03:11:12] Features: 2/12 -- score: 0.5641833647069461[Parallel(n_jobs=-1)]: Using backend LokyBackend with 4 concurrent workers.\n",
      "[Parallel(n_jobs=-1)]: Done  33 tasks      | elapsed:   17.2s\n",
      "[Parallel(n_jobs=-1)]: Done  46 out of  46 | elapsed:   22.9s finished\n",
      "\n",
      "[2020-03-15 03:11:35] Features: 3/12 -- score: 0.5682391403521783[Parallel(n_jobs=-1)]: Using backend LokyBackend with 4 concurrent workers.\n",
      "[Parallel(n_jobs=-1)]: Done  33 tasks      | elapsed:   17.7s\n",
      "[Parallel(n_jobs=-1)]: Done  45 out of  45 | elapsed:   23.4s finished\n",
      "\n",
      "[2020-03-15 03:11:59] Features: 4/12 -- score: 0.5917377903659617[Parallel(n_jobs=-1)]: Using backend LokyBackend with 4 concurrent workers.\n",
      "[Parallel(n_jobs=-1)]: Done  33 tasks      | elapsed:   17.8s\n",
      "[Parallel(n_jobs=-1)]: Done  44 out of  44 | elapsed:   21.9s finished\n",
      "\n",
      "[2020-03-15 03:12:21] Features: 5/12 -- score: 0.5931316348838329[Parallel(n_jobs=-1)]: Using backend LokyBackend with 4 concurrent workers.\n",
      "[Parallel(n_jobs=-1)]: Done  33 tasks      | elapsed:   17.7s\n",
      "[Parallel(n_jobs=-1)]: Done  43 out of  43 | elapsed:   21.7s finished\n",
      "\n",
      "[2020-03-15 03:12:42] Features: 6/12 -- score: 0.5945978502156462[Parallel(n_jobs=-1)]: Using backend LokyBackend with 4 concurrent workers.\n",
      "[Parallel(n_jobs=-1)]: Done  33 tasks      | elapsed:   17.8s\n",
      "[Parallel(n_jobs=-1)]: Done  42 out of  42 | elapsed:   21.7s finished\n",
      "\n",
      "[2020-03-15 03:13:04] Features: 7/12 -- score: 0.5940127158419362[Parallel(n_jobs=-1)]: Using backend LokyBackend with 4 concurrent workers.\n",
      "[Parallel(n_jobs=-1)]: Done  33 tasks      | elapsed:   17.8s\n",
      "[Parallel(n_jobs=-1)]: Done  41 out of  41 | elapsed:   21.4s finished\n",
      "\n",
      "[2020-03-15 03:13:25] Features: 8/12 -- score: 0.5970727880125715[Parallel(n_jobs=-1)]: Using backend LokyBackend with 4 concurrent workers.\n",
      "[Parallel(n_jobs=-1)]: Done  33 tasks      | elapsed:   21.5s\n",
      "[Parallel(n_jobs=-1)]: Done  40 out of  40 | elapsed:   24.4s finished\n",
      "\n",
      "[2020-03-15 03:13:50] Features: 9/12 -- score: 0.6072346548759795[Parallel(n_jobs=-1)]: Using backend LokyBackend with 4 concurrent workers.\n",
      "[Parallel(n_jobs=-1)]: Done  39 out of  39 | elapsed:   24.7s finished\n",
      "\n",
      "[2020-03-15 03:14:15] Features: 10/12 -- score: 0.6098230148569395[Parallel(n_jobs=-1)]: Using backend LokyBackend with 4 concurrent workers.\n",
      "[Parallel(n_jobs=-1)]: Done  38 out of  38 | elapsed:   20.8s finished\n",
      "\n",
      "[2020-03-15 03:14:35] Features: 11/12 -- score: 0.612255146951717[Parallel(n_jobs=-1)]: Using backend LokyBackend with 4 concurrent workers.\n",
      "[Parallel(n_jobs=-1)]: Done  37 out of  37 | elapsed:   20.1s finished\n",
      "\n",
      "[2020-03-15 03:14:55] Features: 12/12 -- score: 0.6110672056171718"
     ]
    }
   ],
   "source": [
    "sfs = SFS(RandomForestClassifier(n_estimators = 100,n_jobs= -1,random_state = 3),\n",
    "         k_features = 12,\n",
    "         forward = True,\n",
    "         floating = False,\n",
    "         verbose = 2,\n",
    "         scoring = 'roc_auc',\n",
    "         cv = 4,\n",
    "         n_jobs = -1).fit(X,y)"
   ]
  },
  {
   "cell_type": "code",
   "execution_count": 117,
   "metadata": {},
   "outputs": [
    {
     "data": {
      "text/plain": [
       "('femaleres',\n",
       " 'edu',\n",
       " 'hh_children',\n",
       " 'asset_savings',\n",
       " 'cons_tobacco',\n",
       " 'cons_med_total',\n",
       " 'ent_wagelabor',\n",
       " 'ent_employees',\n",
       " 'fs_enoughtom',\n",
       " 'amount_given_mpesa',\n",
       " 'received_mpesa',\n",
       " 'amount_received_mpesa')"
      ]
     },
     "execution_count": 117,
     "metadata": {},
     "output_type": "execute_result"
    }
   ],
   "source": [
    "useful_features = sfs.k_feature_names_\n",
    "useful_features"
   ]
  },
  {
   "cell_type": "code",
   "execution_count": 43,
   "metadata": {},
   "outputs": [],
   "source": [
    "\n",
    "X_train,x_test,Y_train,y_test = train_test_split(X[list(useful_features)],y,test_size = 0.3 ,random_state = 3)"
   ]
  },
  {
   "cell_type": "code",
   "execution_count": 44,
   "metadata": {},
   "outputs": [
    {
     "name": "stdout",
     "output_type": "stream",
     "text": [
      "<class 'pandas.core.frame.DataFrame'>\n",
      "Int64Index: 1000 entries, 472 to 130\n",
      "Data columns (total 12 columns):\n",
      " #   Column                 Non-Null Count  Dtype   \n",
      "---  ------                 --------------  -----   \n",
      " 0   femaleres              1000 non-null   category\n",
      " 1   edu                    1000 non-null   int64   \n",
      " 2   hh_children            1000 non-null   int64   \n",
      " 3   asset_savings          1000 non-null   float64 \n",
      " 4   cons_tobacco           1000 non-null   float64 \n",
      " 5   cons_med_total         1000 non-null   float64 \n",
      " 6   ent_wagelabor          1000 non-null   category\n",
      " 7   ent_employees          1000 non-null   int64   \n",
      " 8   fs_enoughtom           1000 non-null   category\n",
      " 9   amount_given_mpesa     1000 non-null   float64 \n",
      " 10  received_mpesa         1000 non-null   int64   \n",
      " 11  amount_received_mpesa  1000 non-null   float64 \n",
      "dtypes: category(3), float64(5), int64(4)\n",
      "memory usage: 81.3 KB\n"
     ]
    }
   ],
   "source": [
    "X_train.info()"
   ]
  },
  {
   "cell_type": "code",
   "execution_count": 45,
   "metadata": {},
   "outputs": [],
   "source": [
    "\n",
    "ohe = OneHotEncoder(categories = 'auto',handle_unknown = 'ignore')"
   ]
  },
  {
   "cell_type": "code",
   "execution_count": 46,
   "metadata": {},
   "outputs": [],
   "source": [
    "X_train_ohe = ohe.fit_transform(X_train).toarray()\n",
    "X_test_ohe= ohe.transform(x_test).toarray()"
   ]
  },
  {
   "cell_type": "code",
   "execution_count": 50,
   "metadata": {},
   "outputs": [],
   "source": [
    "sc = StandardScaler()\n",
    "X_train_std = sc.fit_transform(X_train_ohe)\n",
    "x_test_std = sc.transform(X_test_ohe)"
   ]
  },
  {
   "cell_type": "markdown",
   "metadata": {},
   "source": [
    "# MACHINE LEARNING"
   ]
  },
  {
   "cell_type": "code",
   "execution_count": 51,
   "metadata": {},
   "outputs": [
    {
     "name": "stderr",
     "output_type": "stream",
     "text": [
      "/home/lion/.local/lib/python3.6/site-packages/dask/dataframe/utils.py:15: FutureWarning: pandas.util.testing is deprecated. Use the functions in the public API at pandas.testing instead.\n",
      "  import pandas.util.testing as tm\n"
     ]
    }
   ],
   "source": [
    "from sklearn.model_selection import StratifiedKFold,cross_val_score,GridSearchCV\n",
    "from sklearn.linear_model import LogisticRegression\n",
    "from sklearn.neighbors import KNeighborsClassifier\n",
    "from sklearn.naive_bayes import GaussianNB\n",
    "from sklearn.svm import SVC\n",
    "from xgboost import XGBClassifier\n",
    "from sklearn.metrics import confusion_matrix,accuracy_score,f1_score,classification_report,recall_score,precision_score"
   ]
  },
  {
   "cell_type": "code",
   "execution_count": 52,
   "metadata": {},
   "outputs": [
    {
     "name": "stdout",
     "output_type": "stream",
     "text": [
      "LR     0.6169999999999999\n",
      "KNN     0.607\n",
      "SVM     0.6450000000000001\n",
      "NB     0.379\n",
      "XGB     0.6059999999999999\n"
     ]
    }
   ],
   "source": [
    "rs = 3\n",
    "kfold = StratifiedKFold(n_splits = 5,shuffle = True ,random_state = rs)\n",
    "classifiers = []\n",
    "classifiers.append(('LR',LogisticRegression(solver = 'lbfgs',random_state = rs)))\n",
    "classifiers.append(('KNN',KNeighborsClassifier()))\n",
    "classifiers.append(('SVM',SVC(gamma = 'auto',random_state = rs)))\n",
    "classifiers.append(('NB',GaussianNB()))\n",
    "classifiers.append(('XGB',XGBClassifier(seed=rs)))\n",
    "\n",
    "\n",
    "\n",
    "for name, model in classifiers:\n",
    "    cv_results = cross_val_score(model,X_train_std,Y_train,cv = kfold,scoring = 'accuracy')\n",
    "    print (name,'   ',cv_results.mean())\n",
    "    \n",
    "    \n",
    "    "
   ]
  },
  {
   "cell_type": "code",
   "execution_count": 53,
   "metadata": {},
   "outputs": [
    {
     "name": "stdout",
     "output_type": "stream",
     "text": [
      "Best: 0.663000 using {'C': 0.1, 'kernel': 'rbf'}\n"
     ]
    }
   ],
   "source": [
    "# rs = 3\n",
    "kfold1 = StratifiedKFold(n_splits = 5,shuffle = True ,random_state = rs)\n",
    "c_values = [0.1,1,10]\n",
    "#gamma_values= [0.1,1,10]\n",
    "kernel_values = ['linear','rbf']\n",
    "param = dict(C = c_values,kernel = kernel_values)\n",
    "grid = GridSearchCV(estimator = SVC(gamma = 'auto',random_state = rs),param_grid = param,cv = kfold1)\n",
    "grid_result = grid.fit(X_train_std,Y_train)\n",
    "print(\"Best: %f using %s\" % (grid_result.best_score_, grid_result.best_params_))"
   ]
  },
  {
   "cell_type": "code",
   "execution_count": 54,
   "metadata": {},
   "outputs": [],
   "source": [
    "svm = SVC(C = 0.1,kernel = 'linear',gamma = 'auto',class_weight='balanced')"
   ]
  },
  {
   "cell_type": "code",
   "execution_count": 55,
   "metadata": {},
   "outputs": [
    {
     "data": {
      "text/plain": [
       "SVC(C=0.1, break_ties=False, cache_size=200, class_weight='balanced', coef0=0.0,\n",
       "    decision_function_shape='ovr', degree=3, gamma='auto', kernel='linear',\n",
       "    max_iter=-1, probability=False, random_state=None, shrinking=True,\n",
       "    tol=0.001, verbose=False)"
      ]
     },
     "execution_count": 55,
     "metadata": {},
     "output_type": "execute_result"
    }
   ],
   "source": [
    "svm.fit(X_train_std,Y_train)"
   ]
  },
  {
   "cell_type": "code",
   "execution_count": 57,
   "metadata": {},
   "outputs": [],
   "source": [
    "y_pred = svm.predict(x_test_std)"
   ]
  },
  {
   "cell_type": "code",
   "execution_count": 58,
   "metadata": {},
   "outputs": [],
   "source": [
    "acc = accuracy_score(y_test, y_pred)"
   ]
  },
  {
   "cell_type": "code",
   "execution_count": 59,
   "metadata": {},
   "outputs": [
    {
     "data": {
      "text/plain": [
       "0.585081585081585"
      ]
     },
     "execution_count": 59,
     "metadata": {},
     "output_type": "execute_result"
    }
   ],
   "source": [
    "acc"
   ]
  },
  {
   "cell_type": "code",
   "execution_count": 60,
   "metadata": {},
   "outputs": [
    {
     "data": {
      "text/plain": [
       "array([[192,  98],\n",
       "       [ 80,  59]])"
      ]
     },
     "execution_count": 60,
     "metadata": {},
     "output_type": "execute_result"
    }
   ],
   "source": [
    "cm = confusion_matrix(y_test, y_pred)\n",
    "cm"
   ]
  },
  {
   "cell_type": "code",
   "execution_count": 63,
   "metadata": {},
   "outputs": [
    {
     "data": {
      "text/plain": [
       "0.5432646985859588"
      ]
     },
     "execution_count": 63,
     "metadata": {},
     "output_type": "execute_result"
    }
   ],
   "source": [
    "from sklearn.metrics import roc_auc_score\n",
    "roc_auc_score(y_test,y_pred)"
   ]
  },
  {
   "cell_type": "code",
   "execution_count": 64,
   "metadata": {},
   "outputs": [
    {
     "data": {
      "text/plain": [
       "0.4244604316546763"
      ]
     },
     "execution_count": 64,
     "metadata": {},
     "output_type": "execute_result"
    }
   ],
   "source": [
    "recall_score(y_test,y_pred)"
   ]
  },
  {
   "cell_type": "code",
   "execution_count": 65,
   "metadata": {},
   "outputs": [
    {
     "data": {
      "text/plain": [
       "0.37579617834394907"
      ]
     },
     "execution_count": 65,
     "metadata": {},
     "output_type": "execute_result"
    }
   ],
   "source": [
    "precision_score(y_test,y_pred)"
   ]
  },
  {
   "cell_type": "code",
   "execution_count": 66,
   "metadata": {},
   "outputs": [],
   "source": [
    "log = LogisticRegression()"
   ]
  },
  {
   "cell_type": "code",
   "execution_count": 67,
   "metadata": {},
   "outputs": [
    {
     "data": {
      "text/plain": [
       "LogisticRegression(C=1.0, class_weight=None, dual=False, fit_intercept=True,\n",
       "                   intercept_scaling=1, l1_ratio=None, max_iter=100,\n",
       "                   multi_class='auto', n_jobs=None, penalty='l2',\n",
       "                   random_state=None, solver='lbfgs', tol=0.0001, verbose=0,\n",
       "                   warm_start=False)"
      ]
     },
     "execution_count": 67,
     "metadata": {},
     "output_type": "execute_result"
    }
   ],
   "source": [
    "log.fit(X_train_std,Y_train)"
   ]
  },
  {
   "cell_type": "code",
   "execution_count": 69,
   "metadata": {},
   "outputs": [],
   "source": [
    "y_logpred = log.predict(x_test_std)"
   ]
  },
  {
   "cell_type": "code",
   "execution_count": 70,
   "metadata": {},
   "outputs": [
    {
     "data": {
      "text/plain": [
       "0.6456876456876457"
      ]
     },
     "execution_count": 70,
     "metadata": {},
     "output_type": "execute_result"
    }
   ],
   "source": [
    "accuracy_score(y_test,y_logpred)"
   ]
  },
  {
   "cell_type": "code",
   "execution_count": 71,
   "metadata": {},
   "outputs": [
    {
     "data": {
      "text/plain": [
       "0.0    290\n",
       "1.0    139\n",
       "Name: depressed, dtype: int64"
      ]
     },
     "execution_count": 71,
     "metadata": {},
     "output_type": "execute_result"
    }
   ],
   "source": [
    "y_test.value_counts()"
   ]
  },
  {
   "cell_type": "code",
   "execution_count": 73,
   "metadata": {},
   "outputs": [
    {
     "data": {
      "text/plain": [
       "array([[251,  39],\n",
       "       [113,  26]])"
      ]
     },
     "execution_count": 73,
     "metadata": {},
     "output_type": "execute_result"
    }
   ],
   "source": [
    "confusion = confusion_matrix(y_test,y_logpred)\n",
    "confusion"
   ]
  },
  {
   "cell_type": "code",
   "execution_count": 75,
   "metadata": {},
   "outputs": [
    {
     "data": {
      "text/plain": [
       "0.18705035971223022"
      ]
     },
     "execution_count": 75,
     "metadata": {},
     "output_type": "execute_result"
    }
   ],
   "source": [
    "#sensitivity\n",
    "recall_score(y_test,y_logpred)"
   ]
  },
  {
   "cell_type": "code",
   "execution_count": 76,
   "metadata": {},
   "outputs": [
    {
     "data": {
      "text/plain": [
       "0.4"
      ]
     },
     "execution_count": 76,
     "metadata": {},
     "output_type": "execute_result"
    }
   ],
   "source": [
    "#precision\n",
    "precision_score(y_test,y_logpred)"
   ]
  },
  {
   "cell_type": "code",
   "execution_count": 79,
   "metadata": {},
   "outputs": [
    {
     "data": {
      "text/plain": [
       "0.5262838005457703"
      ]
     },
     "execution_count": 79,
     "metadata": {},
     "output_type": "execute_result"
    }
   ],
   "source": [
    "from sklearn.metrics import roc_auc_score\n",
    "roc_auc_score(y_test,y_logpred)"
   ]
  },
  {
   "cell_type": "code",
   "execution_count": 108,
   "metadata": {},
   "outputs": [
    {
     "data": {
      "text/plain": [
       "XGBClassifier(base_score=0.5, booster=None, colsample_bylevel=1,\n",
       "              colsample_bynode=1, colsample_bytree=1, gamma=0, gpu_id=-1,\n",
       "              importance_type='gain', interaction_constraints=None,\n",
       "              learning_rate=0.300000012, max_delta_step=0, max_depth=6,\n",
       "              min_child_weight=1, missing=nan, monotone_constraints=None,\n",
       "              n_estimators=100, n_jobs=0, num_parallel_tree=1,\n",
       "              objective='binary:logistic', random_state=0, reg_alpha=0,\n",
       "              reg_lambda=1, scale_pos_weight=1, subsample=1, tree_method=None,\n",
       "              validate_parameters=False, verbosity=None)"
      ]
     },
     "execution_count": 108,
     "metadata": {},
     "output_type": "execute_result"
    }
   ],
   "source": [
    "from xgboost import XGBClassifier\n",
    "xgb = XGBClassifier()\n",
    "xgb.fit(X_train_std,Y_train)\n"
   ]
  },
  {
   "cell_type": "code",
   "execution_count": 110,
   "metadata": {},
   "outputs": [
    {
     "data": {
      "text/plain": [
       "0.6526806526806527"
      ]
     },
     "execution_count": 110,
     "metadata": {},
     "output_type": "execute_result"
    }
   ],
   "source": [
    "xgb_pred = xgb.predict(x_test_std)\n",
    "accuracy_score(y_test,xgb_pred)"
   ]
  },
  {
   "cell_type": "code",
   "execution_count": 111,
   "metadata": {},
   "outputs": [
    {
     "data": {
      "text/plain": [
       "array([[250,  40],\n",
       "       [109,  30]])"
      ]
     },
     "execution_count": 111,
     "metadata": {},
     "output_type": "execute_result"
    }
   ],
   "source": [
    "confusion_matrix(y_test,xgb_pred)"
   ]
  },
  {
   "cell_type": "code",
   "execution_count": 112,
   "metadata": {},
   "outputs": [
    {
     "data": {
      "text/plain": [
       "0.2158273381294964"
      ]
     },
     "execution_count": 112,
     "metadata": {},
     "output_type": "execute_result"
    }
   ],
   "source": [
    "recall_score(y_test,xgb_pred)"
   ]
  },
  {
   "cell_type": "code",
   "execution_count": 113,
   "metadata": {},
   "outputs": [
    {
     "data": {
      "text/plain": [
       "0.42857142857142855"
      ]
     },
     "execution_count": 113,
     "metadata": {},
     "output_type": "execute_result"
    }
   ],
   "source": [
    "precision_score(y_test,xgb_pred)"
   ]
  },
  {
   "cell_type": "code",
   "execution_count": 114,
   "metadata": {},
   "outputs": [
    {
     "data": {
      "text/plain": [
       "0.5389481518233689"
      ]
     },
     "execution_count": 114,
     "metadata": {},
     "output_type": "execute_result"
    }
   ],
   "source": [
    "roc_auc_score(y_test,xgb_pred)"
   ]
  },
  {
   "cell_type": "code",
   "execution_count": null,
   "metadata": {},
   "outputs": [],
   "source": []
  },
  {
   "cell_type": "code",
   "execution_count": 88,
   "metadata": {},
   "outputs": [],
   "source": [
    "import joblib"
   ]
  },
  {
   "cell_type": "code",
   "execution_count": 89,
   "metadata": {},
   "outputs": [
    {
     "data": {
      "text/plain": [
       "['ohe1.joblib']"
      ]
     },
     "execution_count": 89,
     "metadata": {},
     "output_type": "execute_result"
    }
   ],
   "source": [
    "joblib.dump(ohe,'ohe1.joblib')"
   ]
  },
  {
   "cell_type": "code",
   "execution_count": 90,
   "metadata": {},
   "outputs": [
    {
     "data": {
      "text/plain": [
       "['sc1.joblib']"
      ]
     },
     "execution_count": 90,
     "metadata": {},
     "output_type": "execute_result"
    }
   ],
   "source": [
    "joblib.dump(sc,'sc1.joblib')"
   ]
  },
  {
   "cell_type": "code",
   "execution_count": 91,
   "metadata": {},
   "outputs": [
    {
     "data": {
      "text/plain": [
       "['log.joblib']"
      ]
     },
     "execution_count": 91,
     "metadata": {},
     "output_type": "execute_result"
    }
   ],
   "source": [
    "joblib.dump(log,'log.joblib')"
   ]
  },
  {
   "cell_type": "code",
   "execution_count": 118,
   "metadata": {},
   "outputs": [
    {
     "data": {
      "text/plain": [
       "['svm.joblib']"
      ]
     },
     "execution_count": 118,
     "metadata": {},
     "output_type": "execute_result"
    }
   ],
   "source": [
    "joblib.dump(svm,'svm.joblib')"
   ]
  },
  {
   "cell_type": "code",
   "execution_count": 119,
   "metadata": {},
   "outputs": [
    {
     "data": {
      "text/plain": [
       "['xgb.joblib']"
      ]
     },
     "execution_count": 119,
     "metadata": {},
     "output_type": "execute_result"
    }
   ],
   "source": [
    "joblib.dump(xgb,'xgb.joblib')"
   ]
  },
  {
   "cell_type": "code",
   "execution_count": null,
   "metadata": {},
   "outputs": [],
   "source": []
  },
  {
   "cell_type": "code",
   "execution_count": null,
   "metadata": {},
   "outputs": [],
   "source": []
  }
 ],
 "metadata": {
  "kernelspec": {
   "display_name": "Python 3",
   "language": "python",
   "name": "python3"
  },
  "language_info": {
   "codemirror_mode": {
    "name": "ipython",
    "version": 3
   },
   "file_extension": ".py",
   "mimetype": "text/x-python",
   "name": "python",
   "nbconvert_exporter": "python",
   "pygments_lexer": "ipython3",
   "version": "3.6.9"
  }
 },
 "nbformat": 4,
 "nbformat_minor": 2
}
